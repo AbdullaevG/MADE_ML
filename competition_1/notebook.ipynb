{
 "cells": [
  {
   "cell_type": "code",
   "execution_count": 2,
   "id": "e6d16125",
   "metadata": {},
   "outputs": [],
   "source": [
    "import os\n",
    "import matplotlib.pyplot as plt\n",
    "import seaborn as sns\n",
    "import warnings\n",
    "import numpy as np\n",
    "import pandas as pd\n",
    "from sklearn.feature_extraction.text import CountVectorizer, TfidfVectorizer\n",
    "from sklearn.model_selection import train_test_split\n",
    "from sklearn.metrics import f1_score\n",
    "\n",
    "from sklearn.naive_bayes import MultinomialNB\n",
    "from sklearn.linear_model import SGDClassifier, LogisticRegression\n",
    "from sklearn.ensemble import RandomForestClassifier\n",
    "from sklearn.multiclass import OneVsRestClassifier\n",
    "from sklearn.neural_network import MLPClassifier\n",
    "from nltk.corpus import stopwords\n",
    "from sklearn.preprocessing import MultiLabelBinarizer\n",
    "import re\n",
    "\n",
    "warnings.filterwarnings(\"ignore\")\n",
    "np.random.seed(42)"
   ]
  },
  {
   "cell_type": "code",
   "execution_count": 3,
   "id": "5d9f77a2",
   "metadata": {},
   "outputs": [],
   "source": [
    "# Configs\n",
    "root = \"./data/\"\n",
    "train_file = 'train.csv'\n",
    "test_file = 'test.csv'\n",
    "submit_file = 'submit.csv'\n",
    "train_path = os.path.join(root, train_file)\n",
    "test_path = os.path.join(root, test_file)\n",
    "submit_path = os.path.join(root, submit_file)"
   ]
  },
  {
   "cell_type": "code",
   "execution_count": 4,
   "id": "edd1def5",
   "metadata": {},
   "outputs": [
    {
     "data": {
      "text/html": [
       "<div>\n",
       "<style scoped>\n",
       "    .dataframe tbody tr th:only-of-type {\n",
       "        vertical-align: middle;\n",
       "    }\n",
       "\n",
       "    .dataframe tbody tr th {\n",
       "        vertical-align: top;\n",
       "    }\n",
       "\n",
       "    .dataframe thead th {\n",
       "        text-align: right;\n",
       "    }\n",
       "</style>\n",
       "<table border=\"1\" class=\"dataframe\">\n",
       "  <thead>\n",
       "    <tr style=\"text-align: right;\">\n",
       "      <th></th>\n",
       "      <th>id</th>\n",
       "      <th>movie</th>\n",
       "      <th>dialogue</th>\n",
       "      <th>genres</th>\n",
       "    </tr>\n",
       "  </thead>\n",
       "  <tbody>\n",
       "    <tr>\n",
       "      <th>0</th>\n",
       "      <td>0</td>\n",
       "      <td>0</td>\n",
       "      <td>I thought you were in a meeting--? &lt;BR&gt; I am. ...</td>\n",
       "      <td>[u'drama', u'romance']</td>\n",
       "    </tr>\n",
       "    <tr>\n",
       "      <th>1</th>\n",
       "      <td>1</td>\n",
       "      <td>1</td>\n",
       "      <td>Are you sure you're okay?  You're pale. &lt;BR&gt; I...</td>\n",
       "      <td>[u'drama']</td>\n",
       "    </tr>\n",
       "  </tbody>\n",
       "</table>\n",
       "</div>"
      ],
      "text/plain": [
       "   id  movie                                           dialogue  \\\n",
       "0   0      0  I thought you were in a meeting--? <BR> I am. ...   \n",
       "1   1      1  Are you sure you're okay?  You're pale. <BR> I...   \n",
       "\n",
       "                   genres  \n",
       "0  [u'drama', u'romance']  \n",
       "1              [u'drama']  "
      ]
     },
     "execution_count": 4,
     "metadata": {},
     "output_type": "execute_result"
    }
   ],
   "source": [
    "# read data\n",
    "df = pd.read_csv(train_path)\n",
    "df.head(2)"
   ]
  },
  {
   "cell_type": "code",
   "execution_count": 5,
   "id": "3244c36b",
   "metadata": {},
   "outputs": [
    {
     "name": "stdout",
     "output_type": "stream",
     "text": [
      "Shape of train data: (36991, 4)\n"
     ]
    },
    {
     "data": {
      "text/plain": [
       "id          0\n",
       "movie       0\n",
       "dialogue    0\n",
       "genres      0\n",
       "dtype: int64"
      ]
     },
     "execution_count": 5,
     "metadata": {},
     "output_type": "execute_result"
    }
   ],
   "source": [
    "print(f\"Shape of train data: {df.shape}\")\n",
    "df.isnull().sum()"
   ]
  },
  {
   "cell_type": "code",
   "execution_count": 6,
   "id": "95c9da34",
   "metadata": {},
   "outputs": [
    {
     "data": {
      "text/plain": [
       "id           int64\n",
       "movie        int64\n",
       "dialogue    object\n",
       "genres      object\n",
       "dtype: object"
      ]
     },
     "execution_count": 6,
     "metadata": {},
     "output_type": "execute_result"
    }
   ],
   "source": [
    "df.dtypes"
   ]
  },
  {
   "cell_type": "code",
   "execution_count": 7,
   "id": "5ec80804",
   "metadata": {},
   "outputs": [],
   "source": [
    "df_test = pd.read_csv(test_path)\n",
    "#df_test['dialogue'] = df_test['dialogue'].apply(text_lower)"
   ]
  },
  {
   "cell_type": "code",
   "execution_count": 8,
   "id": "4006b130",
   "metadata": {},
   "outputs": [],
   "source": [
    "tags = set()\n",
    "for i in range(df.shape[0]):\n",
    "    row_tags = re.findall(\"<(?:\\/)?\\w+>\", df['dialogue'][i])\n",
    "    tags.update(row_tags)"
   ]
  },
  {
   "cell_type": "code",
   "execution_count": 9,
   "id": "27ed7101",
   "metadata": {},
   "outputs": [],
   "source": [
    "def del_tags(row, tags=tags):\n",
    "    for tag in tags:\n",
    "        row = re.sub(tag, \" \", row)\n",
    "    return row"
   ]
  },
  {
   "cell_type": "code",
   "execution_count": 10,
   "id": "51c29ea3",
   "metadata": {},
   "outputs": [],
   "source": [
    "def clean_text_df(df):\n",
    "    df['dialogue'] = df['dialogue'].apply(del_tags)\n",
    "    return df"
   ]
  },
  {
   "cell_type": "code",
   "execution_count": 11,
   "id": "5163a087",
   "metadata": {},
   "outputs": [],
   "source": [
    "df = clean_text_df(df)\n",
    "df_test = clean_text_df(df_test)"
   ]
  },
  {
   "cell_type": "code",
   "execution_count": 12,
   "id": "9212fd9d",
   "metadata": {},
   "outputs": [],
   "source": [
    "# change dtype of genres to list\n",
    "correct_target = lambda x: x.split(\"'\")[1:-1:2]\n",
    "df['correct_genres'] = df['genres'].apply(correct_target)\n",
    "df.drop(columns=['genres'], inplace=True)"
   ]
  },
  {
   "cell_type": "code",
   "execution_count": 13,
   "id": "c6f9a85d",
   "metadata": {},
   "outputs": [],
   "source": [
    "# get all classes\n",
    "\n",
    "classes = set()\n",
    "i = 0\n",
    "for row in df['correct_genres'].values:\n",
    "    set_row = set(row)\n",
    "    classes.update(set_row)\n",
    "    i += 1\n",
    "    \n",
    "class_idx = {cls: idx for idx, cls in enumerate(classes)}\n",
    "idx_class = {idx: cls for idx, cls in enumerate(classes)}\n",
    "\n",
    "for key, value in class_idx.items():\n",
    "    assert class_idx[key] != idx_class[value]"
   ]
  },
  {
   "cell_type": "code",
   "execution_count": 14,
   "id": "56579f3b",
   "metadata": {},
   "outputs": [
    {
     "data": {
      "text/plain": [
       "((25893, 4), (11098, 4))"
      ]
     },
     "execution_count": 14,
     "metadata": {},
     "output_type": "execute_result"
    }
   ],
   "source": [
    "# split the data\n",
    "df_train, df_val = train_test_split(df, test_size=0.3, random_state=42)\n",
    "df_train.shape, df_val.shape"
   ]
  },
  {
   "cell_type": "code",
   "execution_count": 15,
   "id": "25d6aa5f",
   "metadata": {},
   "outputs": [],
   "source": [
    "train_texts = df_train['dialogue'].values\n",
    "val_texts = df_val['dialogue'].values\n",
    "test_texts = df_test['dialogue'].values\n",
    "stop_words_nltk = stopwords.words('english')\n",
    "num_features = 10_000\n",
    "ngram_range = (1, 1)"
   ]
  },
  {
   "cell_type": "code",
   "execution_count": 16,
   "id": "6e3b7f1c",
   "metadata": {},
   "outputs": [],
   "source": [
    "# build tfid train and val features\n",
    "def build_features(train_texts=train_texts, \n",
    "                   val_texts=val_texts,\n",
    "                   test_texts=test_texts,\n",
    "                   num_features=num_features, \n",
    "                   max_df=0.5, \n",
    "                   stop_words=stop_words_nltk,\n",
    "                   ngram_range = ngram_range,\n",
    "                   lowercase=True):\n",
    "    \n",
    "    vectorizer = TfidfVectorizer(max_df = max_df, \n",
    "                                 max_features=num_features, \n",
    "                                 stop_words=stop_words, \n",
    "                                 ngram_range=ngram_range)\n",
    "    \n",
    "    train_features = vectorizer.fit_transform(train_texts)\n",
    "    val_features = vectorizer.transform(val_texts)\n",
    "    test_features = vectorizer.transform(test_texts)\n",
    "    return train_features, val_features, test_features"
   ]
  },
  {
   "cell_type": "code",
   "execution_count": 35,
   "id": "00f12e7d",
   "metadata": {},
   "outputs": [
    {
     "data": {
      "text/plain": [
       "((25893, 20000), (11098, 20000), (9403, 20000))"
      ]
     },
     "execution_count": 35,
     "metadata": {},
     "output_type": "execute_result"
    }
   ],
   "source": [
    "train_features, val_features, test_features = build_features(num_features=20_000)\n",
    "train_features.shape, val_features.shape, test_features.shape"
   ]
  },
  {
   "cell_type": "code",
   "execution_count": 18,
   "id": "ed940223",
   "metadata": {},
   "outputs": [],
   "source": [
    "# get one hot target\n",
    "multilabel_binarizer = MultiLabelBinarizer()\n",
    "multilabel_binarizer.fit(df_train[\"correct_genres\"])\n",
    "y_train = multilabel_binarizer.transform(df_train[\"correct_genres\"])\n",
    "y_val = multilabel_binarizer.transform(df_val[\"correct_genres\"])"
   ]
  },
  {
   "cell_type": "code",
   "execution_count": 19,
   "id": "fb65c612",
   "metadata": {},
   "outputs": [],
   "source": [
    "def plot_hist(y):\n",
    "    \"\"\"\n",
    "    y.shape = (num_objects, num_classes)\n",
    "    \"\"\"\n",
    "    counts = y.sum(axis=0)/y.shape[0]\n",
    "    sort_idx = np.argsort(counts)[::-1]\n",
    "    sort_counts = [counts[idx] for idx in sort_idx]\n",
    "    genres = [multilabel_binarizer.classes_[idx] for idx in sort_idx]\n",
    "    \n",
    "    plt.figure(figsize=(15, 8))\n",
    "    ax = sns.barplot(y = genres, x = sort_counts)\n",
    "    ax.set(xlabel=\"Count\", ylabel=\"Genre\")\n",
    "    plt.show()"
   ]
  },
  {
   "cell_type": "code",
   "execution_count": 20,
   "id": "5dfe5388",
   "metadata": {},
   "outputs": [],
   "source": [
    "plt.style.use(\"dark_background\")"
   ]
  },
  {
   "cell_type": "code",
   "execution_count": 21,
   "id": "e7823a3f",
   "metadata": {},
   "outputs": [
    {
     "data": {
      "image/png": "[encoded data removed]",
      "text/plain": [
       "<Figure size 1080x576 with 1 Axes>"
      ]
     },
     "metadata": {},
     "output_type": "display_data"
    }
   ],
   "source": [
    "plot_hist(y_train)"
   ]
  },
  {
   "cell_type": "code",
   "execution_count": 22,
   "id": "f485fdc5",
   "metadata": {},
   "outputs": [
    {
     "data": {
      "image/png": "[encoded data removed]",
      "text/plain": [
       "<Figure size 1080x576 with 1 Axes>"
      ]
     },
     "metadata": {},
     "output_type": "display_data"
    }
   ],
   "source": [
    "plot_hist(y_val)"
   ]
  },
  {
   "cell_type": "code",
   "execution_count": 36,
   "id": "c6108c84",
   "metadata": {},
   "outputs": [],
   "source": [
    "def print_score(y_pred, y_val, clf):\n",
    "    print(\"Clf: \", clf.__class__.__name__)\n",
    "    score = f1_score(y_val, y_pred, average=\"samples\") * 100\n",
    "    print(f\"f1 loss: {score:.3} %\")\n",
    "    print(\"---\")"
   ]
  },
  {
   "cell_type": "code",
   "execution_count": 37,
   "id": "df44f6d4",
   "metadata": {},
   "outputs": [],
   "source": [
    "def fit_classifier(clf, train_features, y_train, classifier, threshold=0.25):\n",
    "    clf.fit(train_features, y_train)\n",
    "    y_pred = clf.predict_proba(val_features)\n",
    "    y_pred = (y_pred >= threshold).astype(int)\n",
    "    print_score(y_pred, y_val, classifier)\n",
    "    return y_pred"
   ]
  },
  {
   "cell_type": "code",
   "execution_count": 38,
   "id": "7cf2711a",
   "metadata": {},
   "outputs": [
    {
     "name": "stdout",
     "output_type": "stream",
     "text": [
      "Clf:  LogisticRegression\n",
      "f1 loss: 64.7 %\n",
      "---\n"
     ]
    }
   ],
   "source": [
    "classifier = LogisticRegression(C=1.0, random_state=9, n_jobs=-1)\n",
    "clf = OneVsRestClassifier(classifier)\n",
    "y_pred = fit_classifier(clf, train_features, y_train, classifier, threshold=0.3)"
   ]
  },
  {
   "cell_type": "code",
   "execution_count": 39,
   "id": "a0e538cf",
   "metadata": {},
   "outputs": [],
   "source": [
    "y_pred_test = clf.predict_proba(test_features)\n",
    "y_pred_test = (y_pred_test >= 0.3).astype(int)"
   ]
  },
  {
   "cell_type": "code",
   "execution_count": 45,
   "id": "5545fad0",
   "metadata": {},
   "outputs": [],
   "source": [
    "result = []\n",
    "genres = np.array(multilabel_binarizer.classes_)\n",
    "for i in range(len(y_pred_test)):\n",
    "    result.append(\" \".join(genres[np.where(y_pred_test[i]==1)]))"
   ]
  },
  {
   "cell_type": "code",
   "execution_count": null,
   "id": "27ff6cbd",
   "metadata": {},
   "outputs": [],
   "source": []
  },
  {
   "cell_type": "code",
   "execution_count": 46,
   "id": "ba32f050",
   "metadata": {},
   "outputs": [],
   "source": [
    "df_test = df_test.drop(columns = 'dialogue')\n",
    "df_test['genres'] = result"
   ]
  },
  {
   "cell_type": "code",
   "execution_count": null,
   "id": "fd924cee",
   "metadata": {},
   "outputs": [],
   "source": []
  }
 ],
 "metadata": {
  "kernelspec": {
   "display_name": "Python 3",
   "language": "python",
   "name": "python3"
  },
  "language_info": {
   "codemirror_mode": {
    "name": "ipython",
    "version": 3
   },
   "file_extension": ".py",
   "mimetype": "text/x-python",
   "name": "python",
   "nbconvert_exporter": "python",
   "pygments_lexer": "ipython3",
   "version": "3.8.5"
  }
 },
 "nbformat": 4,
 "nbformat_minor": 5
}
